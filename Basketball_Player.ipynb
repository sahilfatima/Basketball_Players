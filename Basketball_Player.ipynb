{
  "metadata": {
    "kernelspec": {
      "language": "python",
      "display_name": "Python 3",
      "name": "python3"
    },
    "language_info": {
      "name": "python",
      "version": "3.7.9",
      "mimetype": "text/x-python",
      "codemirror_mode": {
        "name": "ipython",
        "version": 3
      },
      "pygments_lexer": "ipython3",
      "nbconvert_exporter": "python",
      "file_extension": ".py"
    },
    "kaggle": {
      "accelerator": "none",
      "dataSources": [
        {
          "sourceId": 3098,
          "sourceType": "datasetVersion",
          "datasetId": 1790
        },
        {
          "sourceId": 30676,
          "sourceType": "datasetVersion",
          "datasetId": 1358
        },
        {
          "sourceId": 1675893,
          "sourceType": "datasetVersion",
          "datasetId": 832499
        },
        {
          "sourceId": 6687390,
          "sourceType": "datasetVersion",
          "datasetId": 98271
        }
      ],
      "dockerImageVersionId": 30085,
      "isInternetEnabled": false,
      "language": "python",
      "sourceType": "notebook",
      "isGpuEnabled": false
    },
    "colab": {
      "name": "Basketball_Player",
      "provenance": [],
      "include_colab_link": true
    }
  },
  "nbformat_minor": 0,
  "nbformat": 4,
  "cells": [
    {
      "cell_type": "markdown",
      "metadata": {
        "id": "view-in-github",
        "colab_type": "text"
      },
      "source": [
        "<a href=\"https://colab.research.google.com/github/sahilfatima/Basketball_Players/blob/main/Basketball_Player.ipynb\" target=\"_parent\"><img src=\"https://colab.research.google.com/assets/colab-badge.svg\" alt=\"Open In Colab\"/></a>"
      ]
    },
    {
      "source": [
        "\n",
        "# IMPORTANT: RUN THIS CELL IN ORDER TO IMPORT YOUR KAGGLE DATA SOURCES\n",
        "# TO THE CORRECT LOCATION (/kaggle/input) IN YOUR NOTEBOOK,\n",
        "# THEN FEEL FREE TO DELETE THIS CELL.\n",
        "# NOTE: THIS NOTEBOOK ENVIRONMENT DIFFERS FROM KAGGLE'S PYTHON\n",
        "# ENVIRONMENT SO THERE MAY BE MISSING LIBRARIES USED BY YOUR\n",
        "# NOTEBOOK.\n",
        "\n",
        "import os\n",
        "import sys\n",
        "from tempfile import NamedTemporaryFile\n",
        "from urllib.request import urlopen\n",
        "from urllib.parse import unquote, urlparse\n",
        "from urllib.error import HTTPError\n",
        "from zipfile import ZipFile\n",
        "import tarfile\n",
        "import shutil\n",
        "\n",
        "CHUNK_SIZE = 40960\n",
        "DATA_SOURCE_MAPPING = 'social-power-nba:https%3A%2F%2Fstorage.googleapis.com%2Fkaggle-data-sets%2F1790%2F3098%2Fbundle%2Farchive.zip%3FX-Goog-Algorithm%3DGOOG4-RSA-SHA256%26X-Goog-Credential%3Dgcp-kaggle-com%2540kaggle-161607.iam.gserviceaccount.com%252F20240430%252Fauto%252Fstorage%252Fgoog4_request%26X-Goog-Date%3D20240430T145551Z%26X-Goog-Expires%3D259200%26X-Goog-SignedHeaders%3Dhost%26X-Goog-Signature%3D29d654fe54289282d7eba9c08d3b77c73440d7e0904c83da2da89aeaa3961f4278736f26c1220b319b05a1a33003c343160ab38de333455dbd6069a8b228cbd4bcf2a67aeec3fd5dd1425b5bfdd3d942dca4f5c4577d0a773215660fdcf3d45989c1447464f827d21b80a12ac3877376422d5bf8ccf1905a7c7a1e5cd16918fd5ee05a569afe701e8da19baace4c57fe05e24de3b08b997d7d4c8523bd1ac80ec7ed370320683bc2199607f8284aa07ff52bd35b27b1b2d5a0301698a2801ece029f343ebe25f7b67280304703e07a12c84f1196ddfb99a145751ce2bbfa4491d817e9530d720dcf1f8b8e27bf7ad724894f3f113daf0c9fd1274e80e41fa340,nba-players-stats:https%3A%2F%2Fstorage.googleapis.com%2Fkaggle-data-sets%2F1358%2F30676%2Fbundle%2Farchive.zip%3FX-Goog-Algorithm%3DGOOG4-RSA-SHA256%26X-Goog-Credential%3Dgcp-kaggle-com%2540kaggle-161607.iam.gserviceaccount.com%252F20240430%252Fauto%252Fstorage%252Fgoog4_request%26X-Goog-Date%3D20240430T145551Z%26X-Goog-Expires%3D259200%26X-Goog-SignedHeaders%3Dhost%26X-Goog-Signature%3D46ffaff0258189e9891c21f3d817a61919868bb885556b3f1d19189bbdd4db90a4d2375647df1b2849c7d56ddda2343577fed735133b41f9f7a372c4775d55046722abba1dea3806d7ff867b09bb6d688993eb47a5f95055887ae5f5493e2372f54987e74c4702b2a0d4ddee1c23a7dd6eb74d71410796dfa56ffd5ac3d0a3ebc0418416fb494c6c3ecfbd6e080edf72416fe35e6dabb42a20d05fbc635efa8616d2985ae2dfddf533b30121a09b44eab7db5f4f00cf0cc289bd4bdbce315377c107cfeb9d8f803a3028b4d75f4246ab2add8ae75e1a103e1f6aa845619f68c694895db23b37d5085aa58a7264754a364db14d5027164325c1665208b179bb33,basketball-players-stats-per-season-49-leagues:https%3A%2F%2Fstorage.googleapis.com%2Fkaggle-data-sets%2F832499%2F1675893%2Fbundle%2Farchive.zip%3FX-Goog-Algorithm%3DGOOG4-RSA-SHA256%26X-Goog-Credential%3Dgcp-kaggle-com%2540kaggle-161607.iam.gserviceaccount.com%252F20240430%252Fauto%252Fstorage%252Fgoog4_request%26X-Goog-Date%3D20240430T145551Z%26X-Goog-Expires%3D259200%26X-Goog-SignedHeaders%3Dhost%26X-Goog-Signature%3D462bfb9b4ae5e5cb1bed54fe5f231f38e92df460dced7f58142336094550ebbe33cc0521cb9b9604b367bab0b1dc5b2c76d245f1e3a2a2a87e438649a6ba9ce1abc70b875a6488ec6474004920e25b9f50d386374e96e10fb6bfc30db8aa8ebbf02e0f1c166b5b2772caf25c06ac7e248e08c0b456de81c80eff698b106965bbfcd1c5245806bc598857ed49042edad63ccb571318282a37cc6ec02cf27129c4af6b81a0a8944fd1045f2df5276df03337ed028f5e6c36fbad98fe5976f646c0e1fdf650d2407a1b8bc06e1bfc7211fe2cf7a755f215a7a99d377cf60ed8e3720b4cb01f3a9ea9c490eecceb4d4c2e910d808ad24da937baf4c7993f10133f56,nba-players-data:https%3A%2F%2Fstorage.googleapis.com%2Fkaggle-data-sets%2F98271%2F6687390%2Fbundle%2Farchive.zip%3FX-Goog-Algorithm%3DGOOG4-RSA-SHA256%26X-Goog-Credential%3Dgcp-kaggle-com%2540kaggle-161607.iam.gserviceaccount.com%252F20240430%252Fauto%252Fstorage%252Fgoog4_request%26X-Goog-Date%3D20240430T145551Z%26X-Goog-Expires%3D259200%26X-Goog-SignedHeaders%3Dhost%26X-Goog-Signature%3D4d9cd8556eaa03c5a678063a0665b111f4373d8d7be591cace4798c0ad0b2cb5258f81dbb356660884f9b610155021c513b2b59299d6930fc5f62c837a64d1211df9968f23d5aec4241136e556adda3c7f2ee81c382032ee86c22570c69aac5722a7e0c203349ab75a3dd290386522359ec66e3f0f017a73f6d0e08b17466b82677d1e4993d4b018eb76528ed8aaac051e00fb7e052fc9f328e35986f6edf373c8a8c0ea7a0ee80cf9df8c0364416039cb92e3ee26fd285077f45ebaab9705a138fb5d19507452d3a1eabcb8337f460efb94d90b037abe1abbdc10f81f289e799339798ca0373d6dae9ecad7114fa036d2f8b1b184662f536f49d99f76b9520f'\n",
        "\n",
        "KAGGLE_INPUT_PATH='/kaggle/input'\n",
        "KAGGLE_WORKING_PATH='/kaggle/working'\n",
        "KAGGLE_SYMLINK='kaggle'\n",
        "\n",
        "!umount /kaggle/input/ 2> /dev/null\n",
        "shutil.rmtree('/kaggle/input', ignore_errors=True)\n",
        "os.makedirs(KAGGLE_INPUT_PATH, 0o777, exist_ok=True)\n",
        "os.makedirs(KAGGLE_WORKING_PATH, 0o777, exist_ok=True)\n",
        "\n",
        "try:\n",
        "  os.symlink(KAGGLE_INPUT_PATH, os.path.join(\"..\", 'input'), target_is_directory=True)\n",
        "except FileExistsError:\n",
        "  pass\n",
        "try:\n",
        "  os.symlink(KAGGLE_WORKING_PATH, os.path.join(\"..\", 'working'), target_is_directory=True)\n",
        "except FileExistsError:\n",
        "  pass\n",
        "\n",
        "for data_source_mapping in DATA_SOURCE_MAPPING.split(','):\n",
        "    directory, download_url_encoded = data_source_mapping.split(':')\n",
        "    download_url = unquote(download_url_encoded)\n",
        "    filename = urlparse(download_url).path\n",
        "    destination_path = os.path.join(KAGGLE_INPUT_PATH, directory)\n",
        "    try:\n",
        "        with urlopen(download_url) as fileres, NamedTemporaryFile() as tfile:\n",
        "            total_length = fileres.headers['content-length']\n",
        "            print(f'Downloading {directory}, {total_length} bytes compressed')\n",
        "            dl = 0\n",
        "            data = fileres.read(CHUNK_SIZE)\n",
        "            while len(data) > 0:\n",
        "                dl += len(data)\n",
        "                tfile.write(data)\n",
        "                done = int(50 * dl / int(total_length))\n",
        "                sys.stdout.write(f\"\\r[{'=' * done}{' ' * (50-done)}] {dl} bytes downloaded\")\n",
        "                sys.stdout.flush()\n",
        "                data = fileres.read(CHUNK_SIZE)\n",
        "            if filename.endswith('.zip'):\n",
        "              with ZipFile(tfile) as zfile:\n",
        "                zfile.extractall(destination_path)\n",
        "            else:\n",
        "              with tarfile.open(tfile.name) as tarfile:\n",
        "                tarfile.extractall(destination_path)\n",
        "            print(f'\\nDownloaded and uncompressed: {directory}')\n",
        "    except HTTPError as e:\n",
        "        print(f'Failed to load (likely expired) {download_url} to path {destination_path}')\n",
        "        continue\n",
        "    except OSError as e:\n",
        "        print(f'Failed to load {download_url} to path {destination_path}')\n",
        "        continue\n",
        "\n",
        "print('Data source import complete.')\n"
      ],
      "metadata": {
        "id": "ET3foAh6gVkh"
      },
      "cell_type": "code",
      "outputs": [],
      "execution_count": null
    },
    {
      "cell_type": "code",
      "source": [
        "#Importing libraries\n",
        "import numpy as np\n",
        "import pandas as pd\n",
        "import matplotlib.pyplot as plt\n",
        "import seaborn as sns\n",
        "import plotly.express as px"
      ],
      "metadata": {
        "execution": {
          "iopub.status.busy": "2024-04-30T14:00:45.799658Z",
          "iopub.execute_input": "2024-04-30T14:00:45.800134Z",
          "iopub.status.idle": "2024-04-30T14:00:48.055529Z",
          "shell.execute_reply.started": "2024-04-30T14:00:45.800083Z",
          "shell.execute_reply": "2024-04-30T14:00:48.054023Z"
        },
        "trusted": true,
        "id": "wBGb3j6ggVkn"
      },
      "execution_count": null,
      "outputs": []
    },
    {
      "cell_type": "code",
      "source": [
        "#Loading dataset\n",
        "dataset = pd.read_csv(\"../input/social-power-nba/nba_2017_nba_players_with_salary.csv\")\n",
        "dataset1 = pd.read_csv(\"../input/nba-players-data/all_seasons.csv\")"
      ],
      "metadata": {
        "execution": {
          "iopub.status.busy": "2024-04-30T14:00:58.643477Z",
          "iopub.execute_input": "2024-04-30T14:00:58.643889Z",
          "iopub.status.idle": "2024-04-30T14:00:58.780403Z",
          "shell.execute_reply.started": "2024-04-30T14:00:58.643856Z",
          "shell.execute_reply": "2024-04-30T14:00:58.779189Z"
        },
        "trusted": true,
        "id": "lzoEVd5JgVko"
      },
      "execution_count": null,
      "outputs": []
    },
    {
      "cell_type": "code",
      "source": [
        "dataset.head(5)"
      ],
      "metadata": {
        "execution": {
          "iopub.status.busy": "2024-04-30T14:01:00.670288Z",
          "iopub.execute_input": "2024-04-30T14:01:00.671151Z",
          "iopub.status.idle": "2024-04-30T14:01:00.732177Z",
          "shell.execute_reply.started": "2024-04-30T14:01:00.671103Z",
          "shell.execute_reply": "2024-04-30T14:01:00.730735Z"
        },
        "trusted": true,
        "id": "dHFPU3kzgVko"
      },
      "execution_count": null,
      "outputs": []
    },
    {
      "cell_type": "code",
      "source": [
        "dataset1 = dataset1.loc[(dataset1['season'] == \"2016-17\")]"
      ],
      "metadata": {
        "execution": {
          "iopub.status.busy": "2024-04-30T14:01:46.6487Z",
          "iopub.execute_input": "2024-04-30T14:01:46.649454Z",
          "iopub.status.idle": "2024-04-30T14:01:46.65781Z",
          "shell.execute_reply.started": "2024-04-30T14:01:46.649386Z",
          "shell.execute_reply": "2024-04-30T14:01:46.656418Z"
        },
        "trusted": true,
        "id": "DUhmoLxhgVko"
      },
      "execution_count": null,
      "outputs": []
    },
    {
      "cell_type": "code",
      "source": [
        "dataset1.head(5)"
      ],
      "metadata": {
        "execution": {
          "iopub.status.busy": "2024-04-30T14:01:48.464223Z",
          "iopub.execute_input": "2024-04-30T14:01:48.464783Z",
          "iopub.status.idle": "2024-04-30T14:01:48.501766Z",
          "shell.execute_reply.started": "2024-04-30T14:01:48.464743Z",
          "shell.execute_reply": "2024-04-30T14:01:48.499986Z"
        },
        "trusted": true,
        "id": "xRhiCujbgVkp"
      },
      "execution_count": null,
      "outputs": []
    },
    {
      "cell_type": "code",
      "source": [
        "players_height_weight = dataset1[['player_name','player_height' ,'player_weight']].copy()"
      ],
      "metadata": {
        "execution": {
          "iopub.status.busy": "2024-04-30T14:01:52.200242Z",
          "iopub.execute_input": "2024-04-30T14:01:52.200646Z",
          "iopub.status.idle": "2024-04-30T14:01:52.208387Z",
          "shell.execute_reply.started": "2024-04-30T14:01:52.200604Z",
          "shell.execute_reply": "2024-04-30T14:01:52.20695Z"
        },
        "trusted": true,
        "id": "fio6-5LrgVkp"
      },
      "execution_count": null,
      "outputs": []
    },
    {
      "cell_type": "code",
      "source": [
        "players_height_weight"
      ],
      "metadata": {
        "execution": {
          "iopub.status.busy": "2024-04-30T14:01:55.500524Z",
          "iopub.execute_input": "2024-04-30T14:01:55.501038Z",
          "iopub.status.idle": "2024-04-30T14:01:55.521895Z",
          "shell.execute_reply.started": "2024-04-30T14:01:55.50099Z",
          "shell.execute_reply": "2024-04-30T14:01:55.520985Z"
        },
        "trusted": true,
        "id": "cbCDFBDagVkp"
      },
      "execution_count": null,
      "outputs": []
    },
    {
      "cell_type": "code",
      "source": [
        "players_height_weight.rename(columns={'player_name': 'PLAYER'}, inplace=True)\n",
        "players_height_weight.rename(columns={'player_height': 'HEIGHT'}, inplace=True)\n",
        "players_height_weight.rename(columns={'player_weight': 'WEIGHT'}, inplace=True)"
      ],
      "metadata": {
        "execution": {
          "iopub.status.busy": "2024-04-30T14:05:33.046496Z",
          "iopub.execute_input": "2024-04-30T14:05:33.046993Z",
          "iopub.status.idle": "2024-04-30T14:05:33.05545Z",
          "shell.execute_reply.started": "2024-04-30T14:05:33.046952Z",
          "shell.execute_reply": "2024-04-30T14:05:33.053968Z"
        },
        "trusted": true,
        "id": "pzCfTAFogVkq"
      },
      "execution_count": null,
      "outputs": []
    },
    {
      "cell_type": "code",
      "source": [
        "players_height_weight"
      ],
      "metadata": {
        "execution": {
          "iopub.status.busy": "2024-04-30T14:05:35.735652Z",
          "iopub.execute_input": "2024-04-30T14:05:35.736102Z",
          "iopub.status.idle": "2024-04-30T14:05:35.757347Z",
          "shell.execute_reply.started": "2024-04-30T14:05:35.736067Z",
          "shell.execute_reply": "2024-04-30T14:05:35.75551Z"
        },
        "trusted": true,
        "id": "STlpEE1qgVkq"
      },
      "execution_count": null,
      "outputs": []
    },
    {
      "cell_type": "code",
      "source": [
        "df = dataset.merge(players_height_weight, how=\"inner\", on=\"PLAYER\")"
      ],
      "metadata": {
        "execution": {
          "iopub.status.busy": "2024-04-30T14:05:38.200639Z",
          "iopub.execute_input": "2024-04-30T14:05:38.201092Z",
          "iopub.status.idle": "2024-04-30T14:05:38.220173Z",
          "shell.execute_reply.started": "2024-04-30T14:05:38.201055Z",
          "shell.execute_reply": "2024-04-30T14:05:38.218637Z"
        },
        "trusted": true,
        "id": "-oG5-X3ZgVkr"
      },
      "execution_count": null,
      "outputs": []
    },
    {
      "cell_type": "code",
      "source": [
        "df"
      ],
      "metadata": {
        "execution": {
          "iopub.status.busy": "2024-04-30T14:05:39.934743Z",
          "iopub.execute_input": "2024-04-30T14:05:39.93519Z",
          "iopub.status.idle": "2024-04-30T14:05:39.992216Z",
          "shell.execute_reply.started": "2024-04-30T14:05:39.935153Z",
          "shell.execute_reply": "2024-04-30T14:05:39.990964Z"
        },
        "trusted": true,
        "id": "hT_GmBpFgVkr"
      },
      "execution_count": null,
      "outputs": []
    },
    {
      "cell_type": "code",
      "source": [
        "df.columns"
      ],
      "metadata": {
        "execution": {
          "iopub.status.busy": "2024-04-30T14:05:45.643268Z",
          "iopub.execute_input": "2024-04-30T14:05:45.643957Z",
          "iopub.status.idle": "2024-04-30T14:05:45.651408Z",
          "shell.execute_reply.started": "2024-04-30T14:05:45.643897Z",
          "shell.execute_reply": "2024-04-30T14:05:45.650499Z"
        },
        "trusted": true,
        "id": "tl02q7e0gVkr"
      },
      "execution_count": null,
      "outputs": []
    },
    {
      "cell_type": "code",
      "source": [
        "del df['3P%']\n",
        "del df['2P%']\n",
        "del df['eFG%']\n",
        "del df['FT%']\n",
        "del df['FG%']\n",
        "del df['ORB']\n",
        "del df['DRB']\n",
        "del df['PACE']\n",
        "del df['AGE']\n",
        "del df['WEIGHT']"
      ],
      "metadata": {
        "execution": {
          "iopub.status.busy": "2024-04-30T14:05:47.572265Z",
          "iopub.execute_input": "2024-04-30T14:05:47.573166Z",
          "iopub.status.idle": "2024-04-30T14:05:47.586259Z",
          "shell.execute_reply.started": "2024-04-30T14:05:47.573101Z",
          "shell.execute_reply": "2024-04-30T14:05:47.584783Z"
        },
        "trusted": true,
        "id": "clw-_eVogVkr"
      },
      "execution_count": null,
      "outputs": []
    },
    {
      "cell_type": "code",
      "source": [
        "del df['Unnamed: 0']\n",
        "del df['Rk']\n",
        "del df['TEAM']"
      ],
      "metadata": {
        "_kg_hide-input": false,
        "execution": {
          "iopub.status.busy": "2024-04-30T14:05:50.072322Z",
          "iopub.execute_input": "2024-04-30T14:05:50.072739Z",
          "iopub.status.idle": "2024-04-30T14:05:50.083026Z",
          "shell.execute_reply.started": "2024-04-30T14:05:50.072704Z",
          "shell.execute_reply": "2024-04-30T14:05:50.081273Z"
        },
        "trusted": true,
        "id": "i9RhQYAsgVkr"
      },
      "execution_count": null,
      "outputs": []
    },
    {
      "cell_type": "code",
      "source": [
        "df"
      ],
      "metadata": {
        "execution": {
          "iopub.status.busy": "2024-04-30T14:05:52.746041Z",
          "iopub.execute_input": "2024-04-30T14:05:52.746446Z",
          "iopub.status.idle": "2024-04-30T14:05:52.808955Z",
          "shell.execute_reply.started": "2024-04-30T14:05:52.746412Z",
          "shell.execute_reply": "2024-04-30T14:05:52.807389Z"
        },
        "trusted": true,
        "id": "0tXCkRaMgVkr"
      },
      "execution_count": null,
      "outputs": []
    },
    {
      "cell_type": "code",
      "source": [
        "position_df = df['POSITION']"
      ],
      "metadata": {
        "execution": {
          "iopub.status.busy": "2024-04-30T14:05:55.81032Z",
          "iopub.execute_input": "2024-04-30T14:05:55.810776Z",
          "iopub.status.idle": "2024-04-30T14:05:55.817108Z",
          "shell.execute_reply.started": "2024-04-30T14:05:55.81074Z",
          "shell.execute_reply": "2024-04-30T14:05:55.815673Z"
        },
        "trusted": true,
        "id": "ua-HQt-0gVks"
      },
      "execution_count": null,
      "outputs": []
    },
    {
      "cell_type": "code",
      "source": [
        "df.describe().T"
      ],
      "metadata": {
        "execution": {
          "iopub.status.busy": "2024-04-30T14:06:01.726693Z",
          "iopub.execute_input": "2024-04-30T14:06:01.727199Z",
          "iopub.status.idle": "2024-04-30T14:06:01.834137Z",
          "shell.execute_reply.started": "2024-04-30T14:06:01.727159Z",
          "shell.execute_reply": "2024-04-30T14:06:01.833049Z"
        },
        "trusted": true,
        "id": "KpwwJkodgVks"
      },
      "execution_count": null,
      "outputs": []
    },
    {
      "cell_type": "code",
      "source": [
        "x = df.iloc[:,2:].values\n",
        "y = df.iloc[:,0]"
      ],
      "metadata": {
        "execution": {
          "iopub.status.busy": "2024-04-30T14:06:06.932214Z",
          "iopub.execute_input": "2024-04-30T14:06:06.932909Z",
          "iopub.status.idle": "2024-04-30T14:06:06.939231Z",
          "shell.execute_reply.started": "2024-04-30T14:06:06.932867Z",
          "shell.execute_reply": "2024-04-30T14:06:06.937684Z"
        },
        "trusted": true,
        "id": "tJFcUm2lgVks"
      },
      "execution_count": null,
      "outputs": []
    },
    {
      "cell_type": "code",
      "source": [
        "x"
      ],
      "metadata": {
        "execution": {
          "iopub.status.busy": "2024-04-30T14:16:36.582909Z",
          "iopub.execute_input": "2024-04-30T14:16:36.583409Z",
          "iopub.status.idle": "2024-04-30T14:16:36.592359Z",
          "shell.execute_reply.started": "2024-04-30T14:16:36.583347Z",
          "shell.execute_reply": "2024-04-30T14:16:36.59135Z"
        },
        "trusted": true,
        "id": "LZ8SmWNigVks"
      },
      "execution_count": null,
      "outputs": []
    },
    {
      "cell_type": "code",
      "source": [
        "y"
      ],
      "metadata": {
        "execution": {
          "iopub.status.busy": "2024-04-30T14:16:39.956309Z",
          "iopub.execute_input": "2024-04-30T14:16:39.956971Z",
          "iopub.status.idle": "2024-04-30T14:16:39.966508Z",
          "shell.execute_reply.started": "2024-04-30T14:16:39.956929Z",
          "shell.execute_reply": "2024-04-30T14:16:39.965003Z"
        },
        "trusted": true,
        "id": "0gDWxk-qgVks"
      },
      "execution_count": null,
      "outputs": []
    },
    {
      "cell_type": "code",
      "source": [
        "from sklearn import preprocessing"
      ],
      "metadata": {
        "execution": {
          "iopub.status.busy": "2024-04-30T14:06:33.166355Z",
          "iopub.execute_input": "2024-04-30T14:06:33.167034Z",
          "iopub.status.idle": "2024-04-30T14:06:33.31599Z",
          "shell.execute_reply.started": "2024-04-30T14:06:33.16699Z",
          "shell.execute_reply": "2024-04-30T14:06:33.314541Z"
        },
        "trusted": true,
        "id": "Zw3CHqSFgVks"
      },
      "execution_count": null,
      "outputs": []
    },
    {
      "cell_type": "code",
      "source": [
        "corr = df.corr()"
      ],
      "metadata": {
        "execution": {
          "iopub.status.busy": "2024-04-30T14:06:35.794773Z",
          "iopub.execute_input": "2024-04-30T14:06:35.795218Z",
          "iopub.status.idle": "2024-04-30T14:06:35.804948Z",
          "shell.execute_reply.started": "2024-04-30T14:06:35.795181Z",
          "shell.execute_reply": "2024-04-30T14:06:35.802891Z"
        },
        "trusted": true,
        "id": "b-qHHkh_gVks"
      },
      "execution_count": null,
      "outputs": []
    },
    {
      "cell_type": "code",
      "source": [
        "corr"
      ],
      "metadata": {
        "execution": {
          "iopub.status.busy": "2024-04-30T14:06:37.695323Z",
          "iopub.execute_input": "2024-04-30T14:06:37.695867Z",
          "iopub.status.idle": "2024-04-30T14:06:37.759188Z",
          "shell.execute_reply.started": "2024-04-30T14:06:37.695802Z",
          "shell.execute_reply": "2024-04-30T14:06:37.757814Z"
        },
        "trusted": true,
        "id": "steT0l9ggVks"
      },
      "execution_count": null,
      "outputs": []
    },
    {
      "cell_type": "code",
      "source": [
        "plt.subplots(figsize=(20,20))\n",
        "ax = plt.axes()\n",
        "ax.set_title(\"NBA Players Correlation Heatmap:  2016-2017 Season \")\n",
        "sns.heatmap(corr, xticklabels = corr.columns.values , yticklabels = corr.columns.values)"
      ],
      "metadata": {
        "execution": {
          "iopub.status.busy": "2024-04-30T14:18:29.294644Z",
          "iopub.execute_input": "2024-04-30T14:18:29.295165Z",
          "iopub.status.idle": "2024-04-30T14:18:30.344796Z",
          "shell.execute_reply.started": "2024-04-30T14:18:29.295123Z",
          "shell.execute_reply": "2024-04-30T14:18:30.343502Z"
        },
        "trusted": true,
        "id": "Uo1Fi21NgVks"
      },
      "execution_count": null,
      "outputs": []
    },
    {
      "cell_type": "code",
      "source": [
        "figx = px.scatter_matrix(df,dimensions=[\"SALARY_MILLIONS\",\"WINS_RPM\",\"PIE\",\"HEIGHT\" ,\"BLK\" , \"POINTS\",\"TRB\"], color=\"POSITION\")"
      ],
      "metadata": {
        "execution": {
          "iopub.status.busy": "2024-04-30T14:18:58.461473Z",
          "iopub.execute_input": "2024-04-30T14:18:58.461938Z",
          "iopub.status.idle": "2024-04-30T14:18:58.840444Z",
          "shell.execute_reply.started": "2024-04-30T14:18:58.461899Z",
          "shell.execute_reply": "2024-04-30T14:18:58.839112Z"
        },
        "trusted": true,
        "id": "dGjxSK_9gVks"
      },
      "execution_count": null,
      "outputs": []
    },
    {
      "cell_type": "code",
      "source": [
        "figx"
      ],
      "metadata": {
        "execution": {
          "iopub.status.busy": "2024-04-30T14:19:04.26657Z",
          "iopub.execute_input": "2024-04-30T14:19:04.267103Z",
          "iopub.status.idle": "2024-04-30T14:19:04.286661Z",
          "shell.execute_reply.started": "2024-04-30T14:19:04.26706Z",
          "shell.execute_reply": "2024-04-30T14:19:04.285394Z"
        },
        "trusted": true,
        "id": "J88StE6ngVks"
      },
      "execution_count": null,
      "outputs": []
    },
    {
      "cell_type": "code",
      "source": [
        "sns.lmplot(x=\"SALARY_MILLIONS\", y=\"WINS_RPM\", data=df)"
      ],
      "metadata": {
        "execution": {
          "iopub.status.busy": "2024-04-30T14:08:57.662606Z",
          "iopub.execute_input": "2024-04-30T14:08:57.663053Z",
          "iopub.status.idle": "2024-04-30T14:08:58.176657Z",
          "shell.execute_reply.started": "2024-04-30T14:08:57.663014Z",
          "shell.execute_reply": "2024-04-30T14:08:58.175246Z"
        },
        "trusted": true,
        "id": "1iw5P84jgVks"
      },
      "execution_count": null,
      "outputs": []
    },
    {
      "cell_type": "code",
      "source": [
        "sns.lmplot(x=\"SALARY_MILLIONS\", y=\"PIE\", data=df)"
      ],
      "metadata": {
        "execution": {
          "iopub.status.busy": "2024-04-30T14:09:02.122191Z",
          "iopub.execute_input": "2024-04-30T14:09:02.122702Z",
          "iopub.status.idle": "2024-04-30T14:09:02.593811Z",
          "shell.execute_reply.started": "2024-04-30T14:09:02.122663Z",
          "shell.execute_reply": "2024-04-30T14:09:02.5924Z"
        },
        "trusted": true,
        "id": "F0nHD30ogVks"
      },
      "execution_count": null,
      "outputs": []
    },
    {
      "cell_type": "code",
      "source": [
        "sns.lmplot(x=\"HEIGHT\", y=\"TRB\", data=df)"
      ],
      "metadata": {
        "execution": {
          "iopub.status.busy": "2024-04-30T14:09:05.524731Z",
          "iopub.execute_input": "2024-04-30T14:09:05.525238Z",
          "iopub.status.idle": "2024-04-30T14:09:06.225857Z",
          "shell.execute_reply.started": "2024-04-30T14:09:05.525197Z",
          "shell.execute_reply": "2024-04-30T14:09:06.22429Z"
        },
        "trusted": true,
        "id": "A-qBoKp1gVkt"
      },
      "execution_count": null,
      "outputs": []
    },
    {
      "cell_type": "code",
      "source": [
        "sns.lmplot(x=\"HEIGHT\", y=\"BLK\", data=df)"
      ],
      "metadata": {
        "execution": {
          "iopub.status.busy": "2024-04-30T14:09:08.811668Z",
          "iopub.execute_input": "2024-04-30T14:09:08.81231Z",
          "iopub.status.idle": "2024-04-30T14:09:09.282502Z",
          "shell.execute_reply.started": "2024-04-30T14:09:08.812263Z",
          "shell.execute_reply": "2024-04-30T14:09:09.281132Z"
        },
        "trusted": true,
        "id": "gR5BtfNIgVkt"
      },
      "execution_count": null,
      "outputs": []
    },
    {
      "cell_type": "code",
      "source": [
        "datasetcr = preprocessing.scale(x)"
      ],
      "metadata": {
        "execution": {
          "iopub.status.busy": "2024-04-30T14:09:12.680106Z",
          "iopub.execute_input": "2024-04-30T14:09:12.680991Z",
          "iopub.status.idle": "2024-04-30T14:09:12.689233Z",
          "shell.execute_reply.started": "2024-04-30T14:09:12.680913Z",
          "shell.execute_reply": "2024-04-30T14:09:12.68774Z"
        },
        "trusted": true,
        "id": "9uJGthrrgVkt"
      },
      "execution_count": null,
      "outputs": []
    },
    {
      "cell_type": "code",
      "source": [
        "datasetcr"
      ],
      "metadata": {
        "execution": {
          "iopub.status.busy": "2024-04-30T14:09:14.796886Z",
          "iopub.execute_input": "2024-04-30T14:09:14.797273Z",
          "iopub.status.idle": "2024-04-30T14:09:14.806858Z",
          "shell.execute_reply.started": "2024-04-30T14:09:14.797241Z",
          "shell.execute_reply": "2024-04-30T14:09:14.805216Z"
        },
        "trusted": true,
        "id": "qbTRsQ2GgVkt"
      },
      "execution_count": null,
      "outputs": []
    },
    {
      "cell_type": "code",
      "source": [
        "eig_vals , eig_vecs = np.linalg.eig(corr)"
      ],
      "metadata": {
        "execution": {
          "iopub.status.busy": "2024-04-30T14:11:22.077176Z",
          "iopub.execute_input": "2024-04-30T14:11:22.077902Z",
          "iopub.status.idle": "2024-04-30T14:11:22.085352Z",
          "shell.execute_reply.started": "2024-04-30T14:11:22.077834Z",
          "shell.execute_reply": "2024-04-30T14:11:22.083938Z"
        },
        "trusted": true,
        "id": "veLN4IYLgVkt"
      },
      "execution_count": null,
      "outputs": []
    },
    {
      "cell_type": "code",
      "source": [
        "eig_vals"
      ],
      "metadata": {
        "execution": {
          "iopub.status.busy": "2024-04-30T14:11:24.083817Z",
          "iopub.execute_input": "2024-04-30T14:11:24.084382Z",
          "iopub.status.idle": "2024-04-30T14:11:24.091817Z",
          "shell.execute_reply.started": "2024-04-30T14:11:24.084347Z",
          "shell.execute_reply": "2024-04-30T14:11:24.090565Z"
        },
        "trusted": true,
        "id": "HIzR6_4WgVkt"
      },
      "execution_count": null,
      "outputs": []
    },
    {
      "cell_type": "code",
      "source": [
        "eig_vecs"
      ],
      "metadata": {
        "execution": {
          "iopub.status.busy": "2024-04-30T14:11:31.296924Z",
          "iopub.execute_input": "2024-04-30T14:11:31.297552Z",
          "iopub.status.idle": "2024-04-30T14:11:31.318401Z",
          "shell.execute_reply.started": "2024-04-30T14:11:31.297497Z",
          "shell.execute_reply": "2024-04-30T14:11:31.31714Z"
        },
        "trusted": true,
        "id": "h7r3OBJjgVkt"
      },
      "execution_count": null,
      "outputs": []
    },
    {
      "cell_type": "code",
      "source": [
        "from sklearn.decomposition import PCA\n"
      ],
      "metadata": {
        "execution": {
          "iopub.status.busy": "2024-04-30T14:11:41.285278Z",
          "iopub.execute_input": "2024-04-30T14:11:41.285775Z",
          "iopub.status.idle": "2024-04-30T14:11:41.475949Z",
          "shell.execute_reply.started": "2024-04-30T14:11:41.285735Z",
          "shell.execute_reply": "2024-04-30T14:11:41.474559Z"
        },
        "trusted": true,
        "id": "xF-q9aG3gVkt"
      },
      "execution_count": null,
      "outputs": []
    },
    {
      "cell_type": "code",
      "source": [
        "from sklearn.decomposition import PCA\n",
        "pca = PCA(n_components=4)\n",
        "principalComponents = pca.fit_transform(x)\n",
        "principalDf = pd.DataFrame(data = principalComponents\n",
        "             , columns = ['principal component 1', 'principal component 2' ,'principal component 3' ,'principal component 4' ])"
      ],
      "metadata": {
        "execution": {
          "iopub.status.busy": "2024-04-30T14:11:43.854584Z",
          "iopub.execute_input": "2024-04-30T14:11:43.855022Z",
          "iopub.status.idle": "2024-04-30T14:11:43.884633Z",
          "shell.execute_reply.started": "2024-04-30T14:11:43.854978Z",
          "shell.execute_reply": "2024-04-30T14:11:43.882898Z"
        },
        "trusted": true,
        "id": "e_b5wgtygVkt"
      },
      "execution_count": null,
      "outputs": []
    },
    {
      "cell_type": "code",
      "source": [
        "pca.explained_variance_ratio_"
      ],
      "metadata": {
        "execution": {
          "iopub.status.busy": "2024-04-30T14:11:47.288804Z",
          "iopub.execute_input": "2024-04-30T14:11:47.289482Z",
          "iopub.status.idle": "2024-04-30T14:11:47.295286Z",
          "shell.execute_reply.started": "2024-04-30T14:11:47.289443Z",
          "shell.execute_reply": "2024-04-30T14:11:47.294389Z"
        },
        "trusted": true,
        "id": "bx7s65sPgVkt"
      },
      "execution_count": null,
      "outputs": []
    },
    {
      "cell_type": "code",
      "source": [
        "print(pca.explained_variance_ratio_ * 100)"
      ],
      "metadata": {
        "execution": {
          "iopub.status.busy": "2024-04-30T14:11:49.709082Z",
          "iopub.execute_input": "2024-04-30T14:11:49.709802Z",
          "iopub.status.idle": "2024-04-30T14:11:49.716786Z",
          "shell.execute_reply.started": "2024-04-30T14:11:49.709758Z",
          "shell.execute_reply": "2024-04-30T14:11:49.714995Z"
        },
        "trusted": true,
        "id": "gBaW6ALVgVk0"
      },
      "execution_count": null,
      "outputs": []
    },
    {
      "cell_type": "code",
      "source": [
        "principalDf"
      ],
      "metadata": {
        "execution": {
          "iopub.status.busy": "2024-04-30T14:11:54.798263Z",
          "iopub.execute_input": "2024-04-30T14:11:54.798715Z",
          "iopub.status.idle": "2024-04-30T14:11:54.820386Z",
          "shell.execute_reply.started": "2024-04-30T14:11:54.798676Z",
          "shell.execute_reply": "2024-04-30T14:11:54.819307Z"
        },
        "trusted": true,
        "id": "-aEknXRZgVk0"
      },
      "execution_count": null,
      "outputs": []
    },
    {
      "cell_type": "code",
      "source": [
        "finalDf = pd.concat([principalDf, y ,position_df ], axis = 1)"
      ],
      "metadata": {
        "execution": {
          "iopub.status.busy": "2024-04-30T14:12:02.459666Z",
          "iopub.execute_input": "2024-04-30T14:12:02.460082Z",
          "iopub.status.idle": "2024-04-30T14:12:02.469049Z",
          "shell.execute_reply.started": "2024-04-30T14:12:02.460047Z",
          "shell.execute_reply": "2024-04-30T14:12:02.467461Z"
        },
        "trusted": true,
        "id": "zvsi1ouggVk0"
      },
      "execution_count": null,
      "outputs": []
    },
    {
      "cell_type": "code",
      "source": [
        "finalDf"
      ],
      "metadata": {
        "execution": {
          "iopub.status.busy": "2024-04-30T14:12:04.953373Z",
          "iopub.execute_input": "2024-04-30T14:12:04.953854Z",
          "iopub.status.idle": "2024-04-30T14:12:04.978073Z",
          "shell.execute_reply.started": "2024-04-30T14:12:04.953799Z",
          "shell.execute_reply": "2024-04-30T14:12:04.976744Z"
        },
        "trusted": true,
        "id": "8Pnl6ZaJgVk0"
      },
      "execution_count": null,
      "outputs": []
    },
    {
      "cell_type": "code",
      "source": [
        "pca.fit(x)"
      ],
      "metadata": {
        "execution": {
          "iopub.status.busy": "2024-04-30T14:12:07.719282Z",
          "iopub.execute_input": "2024-04-30T14:12:07.720033Z",
          "iopub.status.idle": "2024-04-30T14:12:07.740354Z",
          "shell.execute_reply.started": "2024-04-30T14:12:07.719952Z",
          "shell.execute_reply": "2024-04-30T14:12:07.738976Z"
        },
        "trusted": true,
        "id": "uE-EEZYGgVk0"
      },
      "execution_count": null,
      "outputs": []
    },
    {
      "cell_type": "code",
      "source": [
        "pcs = pca.components_\n"
      ],
      "metadata": {
        "execution": {
          "iopub.status.busy": "2024-04-30T14:12:12.147439Z",
          "iopub.execute_input": "2024-04-30T14:12:12.14811Z",
          "iopub.status.idle": "2024-04-30T14:12:12.153171Z",
          "shell.execute_reply.started": "2024-04-30T14:12:12.14806Z",
          "shell.execute_reply": "2024-04-30T14:12:12.152205Z"
        },
        "trusted": true,
        "id": "0HxHBSOogVk0"
      },
      "execution_count": null,
      "outputs": []
    },
    {
      "cell_type": "code",
      "source": [
        "pcs"
      ],
      "metadata": {
        "execution": {
          "iopub.status.busy": "2024-04-30T14:12:14.205594Z",
          "iopub.execute_input": "2024-04-30T14:12:14.206301Z",
          "iopub.status.idle": "2024-04-30T14:12:14.217265Z",
          "shell.execute_reply.started": "2024-04-30T14:12:14.206255Z",
          "shell.execute_reply": "2024-04-30T14:12:14.215665Z"
        },
        "trusted": true,
        "id": "dhKE4KN6gVk0"
      },
      "execution_count": null,
      "outputs": []
    },
    {
      "cell_type": "code",
      "source": [
        "columns=dataset.columns.values"
      ],
      "metadata": {
        "execution": {
          "iopub.status.busy": "2024-04-30T14:12:18.935746Z",
          "iopub.execute_input": "2024-04-30T14:12:18.936254Z",
          "iopub.status.idle": "2024-04-30T14:12:18.9415Z",
          "shell.execute_reply.started": "2024-04-30T14:12:18.936215Z",
          "shell.execute_reply": "2024-04-30T14:12:18.940473Z"
        },
        "trusted": true,
        "id": "HVaZ_NylgVk0"
      },
      "execution_count": null,
      "outputs": []
    },
    {
      "cell_type": "code",
      "source": [
        "columns"
      ],
      "metadata": {
        "execution": {
          "iopub.status.busy": "2024-04-30T14:12:38.045786Z",
          "iopub.execute_input": "2024-04-30T14:12:38.046263Z",
          "iopub.status.idle": "2024-04-30T14:12:38.053401Z",
          "shell.execute_reply.started": "2024-04-30T14:12:38.046225Z",
          "shell.execute_reply": "2024-04-30T14:12:38.051914Z"
        },
        "trusted": true,
        "id": "QWKm74LWgVk1"
      },
      "execution_count": null,
      "outputs": []
    },
    {
      "cell_type": "code",
      "source": [
        "x"
      ],
      "metadata": {
        "execution": {
          "iopub.status.busy": "2024-04-30T14:12:41.234301Z",
          "iopub.execute_input": "2024-04-30T14:12:41.234696Z",
          "iopub.status.idle": "2024-04-30T14:12:41.243362Z",
          "shell.execute_reply.started": "2024-04-30T14:12:41.23466Z",
          "shell.execute_reply": "2024-04-30T14:12:41.242062Z"
        },
        "trusted": true,
        "id": "VcKkM4A6gVk1"
      },
      "execution_count": null,
      "outputs": []
    },
    {
      "cell_type": "code",
      "source": [
        "finalDf"
      ],
      "metadata": {
        "execution": {
          "iopub.status.busy": "2024-04-30T14:12:43.412222Z",
          "iopub.execute_input": "2024-04-30T14:12:43.412678Z",
          "iopub.status.idle": "2024-04-30T14:12:43.436995Z",
          "shell.execute_reply.started": "2024-04-30T14:12:43.412642Z",
          "shell.execute_reply": "2024-04-30T14:12:43.436015Z"
        },
        "trusted": true,
        "id": "8vY9GVEzgVk1"
      },
      "execution_count": null,
      "outputs": []
    },
    {
      "cell_type": "code",
      "source": [
        "pc1 = finalDf.iloc[:,0]"
      ],
      "metadata": {
        "execution": {
          "iopub.status.busy": "2024-04-30T14:12:45.999877Z",
          "iopub.execute_input": "2024-04-30T14:12:46.000295Z",
          "iopub.status.idle": "2024-04-30T14:12:46.006681Z",
          "shell.execute_reply.started": "2024-04-30T14:12:46.000261Z",
          "shell.execute_reply": "2024-04-30T14:12:46.005497Z"
        },
        "trusted": true,
        "id": "RHL1g7yzgVk1"
      },
      "execution_count": null,
      "outputs": []
    },
    {
      "cell_type": "code",
      "source": [
        "pc1"
      ],
      "metadata": {
        "execution": {
          "iopub.status.busy": "2024-04-30T14:12:47.881642Z",
          "iopub.execute_input": "2024-04-30T14:12:47.882119Z",
          "iopub.status.idle": "2024-04-30T14:12:47.893244Z",
          "shell.execute_reply.started": "2024-04-30T14:12:47.882083Z",
          "shell.execute_reply": "2024-04-30T14:12:47.891652Z"
        },
        "trusted": true,
        "id": "4SIYJQV7gVk1"
      },
      "execution_count": null,
      "outputs": []
    },
    {
      "cell_type": "code",
      "source": [
        "pc2 = finalDf.iloc[:,1]"
      ],
      "metadata": {
        "execution": {
          "iopub.status.busy": "2024-04-30T14:12:50.256763Z",
          "iopub.execute_input": "2024-04-30T14:12:50.257261Z",
          "iopub.status.idle": "2024-04-30T14:12:50.264282Z",
          "shell.execute_reply.started": "2024-04-30T14:12:50.257221Z",
          "shell.execute_reply": "2024-04-30T14:12:50.262509Z"
        },
        "trusted": true,
        "id": "0qC3UjYvgVk1"
      },
      "execution_count": null,
      "outputs": []
    },
    {
      "cell_type": "code",
      "source": [
        "pc2"
      ],
      "metadata": {
        "execution": {
          "iopub.status.busy": "2024-04-30T14:12:51.754342Z",
          "iopub.execute_input": "2024-04-30T14:12:51.754835Z",
          "iopub.status.idle": "2024-04-30T14:12:51.765446Z",
          "shell.execute_reply.started": "2024-04-30T14:12:51.754781Z",
          "shell.execute_reply": "2024-04-30T14:12:51.764396Z"
        },
        "trusted": true,
        "id": "cmH69IPngVk1"
      },
      "execution_count": null,
      "outputs": []
    },
    {
      "cell_type": "code",
      "source": [
        "pc3 = finalDf.iloc[:,2]"
      ],
      "metadata": {
        "execution": {
          "iopub.status.busy": "2024-04-30T14:12:54.654299Z",
          "iopub.execute_input": "2024-04-30T14:12:54.654772Z",
          "iopub.status.idle": "2024-04-30T14:12:54.661Z",
          "shell.execute_reply.started": "2024-04-30T14:12:54.654734Z",
          "shell.execute_reply": "2024-04-30T14:12:54.659764Z"
        },
        "trusted": true,
        "id": "oCPDxZJ2gVk1"
      },
      "execution_count": null,
      "outputs": []
    },
    {
      "cell_type": "code",
      "source": [
        "pc3"
      ],
      "metadata": {
        "execution": {
          "iopub.status.busy": "2024-04-30T14:12:56.406322Z",
          "iopub.execute_input": "2024-04-30T14:12:56.406799Z",
          "iopub.status.idle": "2024-04-30T14:12:56.418558Z",
          "shell.execute_reply.started": "2024-04-30T14:12:56.406758Z",
          "shell.execute_reply": "2024-04-30T14:12:56.41675Z"
        },
        "trusted": true,
        "id": "C6QmCFrXgVk1"
      },
      "execution_count": null,
      "outputs": []
    },
    {
      "cell_type": "code",
      "source": [
        "fig = px.scatter(finalDf, x=\"principal component 1\" , y=\"principal component 2\"  ,hover_name =\"PLAYER\",  size_max=100 , color=\"POSITION\"   )"
      ],
      "metadata": {
        "execution": {
          "iopub.status.busy": "2024-04-30T14:12:59.562308Z",
          "iopub.execute_input": "2024-04-30T14:12:59.562712Z",
          "iopub.status.idle": "2024-04-30T14:12:59.702872Z",
          "shell.execute_reply.started": "2024-04-30T14:12:59.562677Z",
          "shell.execute_reply": "2024-04-30T14:12:59.701312Z"
        },
        "trusted": true,
        "id": "SyWdcQLygVk1"
      },
      "execution_count": null,
      "outputs": []
    },
    {
      "cell_type": "code",
      "source": [
        "fig"
      ],
      "metadata": {
        "execution": {
          "iopub.status.busy": "2024-04-30T14:13:03.227792Z",
          "iopub.execute_input": "2024-04-30T14:13:03.22829Z",
          "iopub.status.idle": "2024-04-30T14:13:03.245341Z",
          "shell.execute_reply.started": "2024-04-30T14:13:03.228247Z",
          "shell.execute_reply": "2024-04-30T14:13:03.243986Z"
        },
        "trusted": true,
        "id": "UauseCdlgVk2"
      },
      "execution_count": null,
      "outputs": []
    },
    {
      "cell_type": "code",
      "source": [
        "fig1 = px.scatter(finalDf, x=\"principal component 1\" , y=\"principal component 3\",hover_name =\"PLAYER\",  size_max=100 , color=\"POSITION\"   )"
      ],
      "metadata": {
        "execution": {
          "iopub.status.busy": "2024-04-30T14:13:14.652392Z",
          "iopub.execute_input": "2024-04-30T14:13:14.652874Z",
          "iopub.status.idle": "2024-04-30T14:13:14.763682Z",
          "shell.execute_reply.started": "2024-04-30T14:13:14.652806Z",
          "shell.execute_reply": "2024-04-30T14:13:14.762406Z"
        },
        "trusted": true,
        "id": "16uWprm2gVk2"
      },
      "execution_count": null,
      "outputs": []
    },
    {
      "cell_type": "code",
      "source": [
        "fig1"
      ],
      "metadata": {
        "execution": {
          "iopub.status.busy": "2024-04-30T14:13:16.127508Z",
          "iopub.execute_input": "2024-04-30T14:13:16.127958Z",
          "iopub.status.idle": "2024-04-30T14:13:16.144848Z",
          "shell.execute_reply.started": "2024-04-30T14:13:16.127918Z",
          "shell.execute_reply": "2024-04-30T14:13:16.143665Z"
        },
        "trusted": true,
        "id": "KQeUG9qUgVk2"
      },
      "execution_count": null,
      "outputs": []
    },
    {
      "cell_type": "markdown",
      "source": [
        "**Observation : les joueurs sont placés d'une facon particulers :**\n",
        "* Les PG-SG : Au dessus de l'axe des abscies\n",
        "* LES C-PF : Au dessous de l'axe des abscies"
      ],
      "metadata": {
        "id": "ChpEeyu-gVk2"
      }
    },
    {
      "cell_type": "code",
      "source": [
        "fig2 = px.scatter(finalDf, x=\"principal component 2\" , y=\"principal component 3\",hover_name=\"PLAYER\", size_max=100 , color=\"POSITION\"  )"
      ],
      "metadata": {
        "execution": {
          "iopub.status.busy": "2024-04-30T14:13:27.309631Z",
          "iopub.execute_input": "2024-04-30T14:13:27.310154Z",
          "iopub.status.idle": "2024-04-30T14:13:27.421789Z",
          "shell.execute_reply.started": "2024-04-30T14:13:27.310111Z",
          "shell.execute_reply": "2024-04-30T14:13:27.420544Z"
        },
        "trusted": true,
        "id": "My3JcuZqgVk3"
      },
      "execution_count": null,
      "outputs": []
    },
    {
      "cell_type": "code",
      "source": [
        "fig2"
      ],
      "metadata": {
        "execution": {
          "iopub.status.busy": "2024-04-30T14:13:31.582815Z",
          "iopub.execute_input": "2024-04-30T14:13:31.583233Z",
          "iopub.status.idle": "2024-04-30T14:13:31.599498Z",
          "shell.execute_reply.started": "2024-04-30T14:13:31.583199Z",
          "shell.execute_reply": "2024-04-30T14:13:31.597972Z"
        },
        "trusted": true,
        "id": "_1TiSwqegVk4"
      },
      "execution_count": null,
      "outputs": []
    },
    {
      "cell_type": "code",
      "source": [
        "fig3 = px.scatter(finalDf, x=\"principal component 1\" , y=\"principal component 4\",hover_name=\"PLAYER\", size_max=100 , color=\"POSITION\"  )"
      ],
      "metadata": {
        "execution": {
          "iopub.status.busy": "2024-04-30T14:13:36.040865Z",
          "iopub.execute_input": "2024-04-30T14:13:36.041262Z",
          "iopub.status.idle": "2024-04-30T14:13:36.146485Z",
          "shell.execute_reply.started": "2024-04-30T14:13:36.041229Z",
          "shell.execute_reply": "2024-04-30T14:13:36.145176Z"
        },
        "trusted": true,
        "id": "6Wx9--xkgVk4"
      },
      "execution_count": null,
      "outputs": []
    },
    {
      "cell_type": "code",
      "source": [
        "fig3"
      ],
      "metadata": {
        "execution": {
          "iopub.status.busy": "2024-04-30T14:13:37.945343Z",
          "iopub.execute_input": "2024-04-30T14:13:37.945747Z",
          "iopub.status.idle": "2024-04-30T14:13:37.960673Z",
          "shell.execute_reply.started": "2024-04-30T14:13:37.945714Z",
          "shell.execute_reply": "2024-04-30T14:13:37.959344Z"
        },
        "trusted": true,
        "id": "P2y3l_aIgVk4"
      },
      "execution_count": null,
      "outputs": []
    },
    {
      "cell_type": "code",
      "source": [
        "fig4 = px.scatter(finalDf, x=\"principal component 3\" , y=\"principal component 4\",hover_name=\"PLAYER\", size_max=100 , color=\"POSITION\"  )"
      ],
      "metadata": {
        "execution": {
          "iopub.status.busy": "2024-04-30T14:13:41.2545Z",
          "iopub.execute_input": "2024-04-30T14:13:41.255158Z",
          "iopub.status.idle": "2024-04-30T14:13:41.369575Z",
          "shell.execute_reply.started": "2024-04-30T14:13:41.255098Z",
          "shell.execute_reply": "2024-04-30T14:13:41.3681Z"
        },
        "trusted": true,
        "id": "UIhK3xJ4gVk4"
      },
      "execution_count": null,
      "outputs": []
    },
    {
      "cell_type": "code",
      "source": [
        "fig4"
      ],
      "metadata": {
        "execution": {
          "iopub.status.busy": "2024-04-30T14:13:43.680562Z",
          "iopub.execute_input": "2024-04-30T14:13:43.681064Z",
          "iopub.status.idle": "2024-04-30T14:13:43.697728Z",
          "shell.execute_reply.started": "2024-04-30T14:13:43.681022Z",
          "shell.execute_reply": "2024-04-30T14:13:43.696292Z"
        },
        "trusted": true,
        "id": "d5GcJszDgVk4"
      },
      "execution_count": null,
      "outputs": []
    },
    {
      "cell_type": "code",
      "source": [
        "df.loc[(df['PLAYER'] == \"Rudy Gay\")]"
      ],
      "metadata": {
        "execution": {
          "iopub.status.busy": "2024-04-30T14:13:53.431594Z",
          "iopub.execute_input": "2024-04-30T14:13:53.432193Z",
          "iopub.status.idle": "2024-04-30T14:13:53.468497Z",
          "shell.execute_reply.started": "2024-04-30T14:13:53.432151Z",
          "shell.execute_reply": "2024-04-30T14:13:53.467365Z"
        },
        "trusted": true,
        "id": "GG0EXAJBgVk5"
      },
      "execution_count": null,
      "outputs": []
    },
    {
      "cell_type": "code",
      "source": [
        "df.loc[(df['PLAYER'] == \"JaVale McGee\")]"
      ],
      "metadata": {
        "execution": {
          "iopub.status.busy": "2024-04-30T14:14:00.110424Z",
          "iopub.execute_input": "2024-04-30T14:14:00.110859Z",
          "iopub.status.idle": "2024-04-30T14:14:00.144336Z",
          "shell.execute_reply.started": "2024-04-30T14:14:00.110808Z",
          "shell.execute_reply": "2024-04-30T14:14:00.142967Z"
        },
        "trusted": true,
        "id": "nKXkjWemgVk5"
      },
      "execution_count": null,
      "outputs": []
    },
    {
      "cell_type": "code",
      "source": [
        "print(df.loc[(df['PLAYER'] == \"Isaiah Thomas\")] )"
      ],
      "metadata": {
        "execution": {
          "iopub.status.busy": "2024-04-30T14:14:02.783013Z",
          "iopub.execute_input": "2024-04-30T14:14:02.783457Z",
          "iopub.status.idle": "2024-04-30T14:14:02.806784Z",
          "shell.execute_reply.started": "2024-04-30T14:14:02.783422Z",
          "shell.execute_reply": "2024-04-30T14:14:02.805114Z"
        },
        "trusted": true,
        "id": "rAQ_UpXdgVk5"
      },
      "execution_count": null,
      "outputs": []
    },
    {
      "cell_type": "code",
      "source": [
        "print(df.loc[(df['PLAYER'] == \"Kristaps Porzingis\")] )"
      ],
      "metadata": {
        "execution": {
          "iopub.status.busy": "2024-04-30T14:14:04.496727Z",
          "iopub.execute_input": "2024-04-30T14:14:04.497402Z",
          "iopub.status.idle": "2024-04-30T14:14:04.518842Z",
          "shell.execute_reply.started": "2024-04-30T14:14:04.497358Z",
          "shell.execute_reply": "2024-04-30T14:14:04.517811Z"
        },
        "trusted": true,
        "id": "VydpGlkdgVk5"
      },
      "execution_count": null,
      "outputs": []
    }
  ]
}